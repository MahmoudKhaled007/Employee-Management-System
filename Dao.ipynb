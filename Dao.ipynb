{
 "cells": [
  {
   "cell_type": "code",
   "execution_count": 6,
   "metadata": {},
   "outputs": [],
   "source": [
    "import time\n",
    "import mysql.connector\n",
    "from datetime import date\n",
    "from dateutil.relativedelta import relativedelta\n",
    "from datetime import datetime, timedelta\n",
    "import numpy as np\n",
    "import pandas as pd\n",
    "\n"
   ]
  },
  {
   "cell_type": "code",
   "execution_count": 7,
   "metadata": {},
   "outputs": [],
   "source": []
  },
  {
   "cell_type": "code",
   "execution_count": 8,
   "metadata": {},
   "outputs": [
    {
     "name": "stdout",
     "output_type": "stream",
     "text": [
      "(1, 'Ahmed', 'Khaled', 'Mukkattam', '01065216442', 'M', 'mahmoud@gmail.com', '1234')\n",
      "(2, 'Ahmed', 'Khaled', 'Mukkattam', '01065216442', 'M', 'mahmoud@gmail.com', '1234')\n",
      "(3, 'Mahmoud', 'Khaled', 'Mukkattam', '01065216442', 'M', 'mahmoud@gmail.com', '1234')\n",
      "(4, 'Ibrahim', 'Mohamed', 'new Cairo', '01216545645', 'M', 'ibrahim@gmail.com', '123')\n",
      "(5, 'Ibrahim', 'Mohamed', 'new Cairo', '01216545645', 'M', 'ibrahim@gmail.com', '123')\n",
      "(6, 'Menna', 'Mohamed', 'new Cairo', '01216545645', 'F', 'Menna@gmail.com', '123')\n",
      "(7, 'Ibrahim', 'Mohamed', 'new Cairo', '01216545645', 'M', 'ibrahim@gmail.com', '123')\n",
      "(8, 'Menna', 'Mohamed', 'new Cairo', '01216545645', 'F', 'Menna@gmail.com', '123')\n"
     ]
    }
   ],
   "source": []
  }
 ],
 "metadata": {
  "kernelspec": {
   "display_name": "base",
   "language": "python",
   "name": "python3"
  },
  "language_info": {
   "codemirror_mode": {
    "name": "ipython",
    "version": 3
   },
   "file_extension": ".py",
   "mimetype": "text/x-python",
   "name": "python",
   "nbconvert_exporter": "python",
   "pygments_lexer": "ipython3",
   "version": "3.9.13"
  },
  "orig_nbformat": 4
 },
 "nbformat": 4,
 "nbformat_minor": 2
}
