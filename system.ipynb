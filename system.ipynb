{
 "cells": [
  {
   "cell_type": "code",
   "execution_count": 25,
   "metadata": {},
   "outputs": [],
   "source": [
    "import time\n",
    "import mysql.connector\n",
    "from datetime import date\n",
    "from dateutil.relativedelta import relativedelta\n",
    "from datetime import datetime, timedelta\n",
    "import numpy as np\n",
    "import pandas as pd\n",
    "\n"
   ]
  },
  {
   "cell_type": "code",
   "execution_count": 74,
   "metadata": {},
   "outputs": [],
   "source": [
    "mydb = mysql.connector.connect(\n",
    "    host=\"localhost\", user=\"root\", password=\"mahmoud2001\", database=\"employee_managment_system\"\n",
    ")\n",
    "mycursor = mydb.cursor(buffered=True)"
   ]
  },
  {
   "cell_type": "code",
   "execution_count": 75,
   "metadata": {},
   "outputs": [
    {
     "name": "stdout",
     "output_type": "stream",
     "text": [
      "(1, 'qqq', 'Doe', 'London', '0123456789', 'M', 'john.doe@gmail.com', '456')\n",
      "(2, 'eee', 'Mohamed', 'New Cairo', '01065216622', 'M', 'zidan@gmail.com', '123')\n",
      "(3, 'Mahmoud', 'Khaled', 'Mukkattam', '01065216442', 'M', 'mahmoud@gmail.com', '1234')\n",
      "(4, 'Ibrahim', 'Mohamed', 'new Cairo', '01216545645', 'M', 'ibrahim@gmail.com', '123')\n",
      "(5, 'Ibrahim', 'Mohamed', 'new Cairo', '01216545645', 'M', 'ibrahim@gmail.com', '123')\n",
      "(7, 'Ibrahim', 'Mohamed', 'new Cairo', '01216545645', 'M', 'ibrahim@gmail.com', '123')\n",
      "(8, 'Menna', 'Mohamed', 'new Cairo', '01216545645', 'F', 'Menna@gmail.com', '123')\n",
      "(9, 'Zidan', 'Mohamed', 'New Cairo', '01065216622', 'M', 'zidan@gmail.com', '123')\n",
      "(10, 'Zidan', 'Mohamed', 'New Cairo', '01065216622', 'M', 'zidan@gmail.com', '123')\n",
      "(11, 'Zidan', 'Mohamed', 'New Cairo', '01065216622', 'M', 'zidan@gmail.com', '123')\n",
      "(12, 'Zidan', 'Mohamed', 'New Cairo', '01065216622', 'M', 'zidan@gmail.com', '123')\n",
      "(13, 'Zidan', 'Mohamed', 'New Cairo', '01065216622', 'M', 'zidan@gmail.com', '123')\n",
      "(14, 'Zidan', 'Mohamed', 'New Cairo', '01065216622', 'M', 'zidan@gmail.com', '123')\n",
      "(16, 'Zidan', 'Mohamed', 'New Cairo', '01065216622', 'M', 'zidan@gmail.com', '123')\n",
      "(17, 'John', 'Doe', 'London', '0123456789', 'M', 'john.doe@gmail.com', '456')\n",
      "(18, 'Zidan', 'Mohamed', 'New Cairo', '01065216622', 'M', 'zidan@gmail.com', '123')\n",
      "(19, 'John', 'Doe', 'London', '0123456789', 'M', 'john.doe@gmail.com', '456')\n"
     ]
    }
   ],
   "source": [
    "mycursor.execute(\n",
    "    \"SELECT emp_id,fname,lname,location,phone1,sex,email,pass FROM employee \"\n",
    ")\n",
    "\n",
    "myresult = mycursor.fetchall()\n",
    "\n",
    "for x in myresult:\n",
    "    print(x)"
   ]
  },
  {
   "cell_type": "code",
   "execution_count": 17,
   "metadata": {},
   "outputs": [],
   "source": [
    "sql = \"INSERT INTO employee (fname,lname,location,phone1,sex,email,pass) VALUES (%s,%s,%s,%s,%s,%s,%s)\"\n",
    "\n",
    "val = [\n",
    "    (\"Ibrahim\", \"Mohamed\", \"new Cairo\", \"01216545645\", \"M\", \"ibrahim@gmail.com\", \"123\"),\n",
    "    (\"Menna\", \"Mohamed\", \"new Cairo\", \"01216545645\", \"F\", \"Menna@gmail.com\", \"123\"),\n",
    "]\n",
    "\n",
    "mycursor.executemany(sql, val)\n",
    "mydb.commit()"
   ]
  },
  {
   "cell_type": "code",
   "execution_count": 55,
   "metadata": {},
   "outputs": [
    {
     "name": "stdout",
     "output_type": "stream",
     "text": [
      "(1, 'Ahmed', 'Khaled', 'Mukkattam', '01065216442', 'M', 'mahmoud@gmail.com', '1234')\n",
      "(2, 'Ahmed', 'Khaled', 'Mukkattam', '01065216442', 'M', 'mahmoud@gmail.com', '1234')\n",
      "(3, 'Mahmoud', 'Khaled', 'Mukkattam', '01065216442', 'M', 'mahmoud@gmail.com', '1234')\n",
      "(4, 'Ibrahim', 'Mohamed', 'new Cairo', '01216545645', 'M', 'ibrahim@gmail.com', '123')\n",
      "(5, 'Ibrahim', 'Mohamed', 'new Cairo', '01216545645', 'M', 'ibrahim@gmail.com', '123')\n",
      "(6, 'Menna', 'Mohamed', 'new Cairo', '01216545645', 'F', 'Menna@gmail.com', '123')\n",
      "(7, 'Ibrahim', 'Mohamed', 'new Cairo', '01216545645', 'M', 'ibrahim@gmail.com', '123')\n",
      "(8, 'Menna', 'Mohamed', 'new Cairo', '01216545645', 'F', 'Menna@gmail.com', '123')\n",
      "(9, 'Zidan', 'Mohamed', 'New Cairo', '01065216622', 'M', 'zidan@gmail.com', '123')\n",
      "(10, 'Zidan', 'Mohamed', 'New Cairo', '01065216622', 'M', 'zidan@gmail.com', '123')\n",
      "(11, 'Zidan', 'Mohamed', 'New Cairo', '01065216622', 'M', 'zidan@gmail.com', '123')\n",
      "(12, 'Zidan', 'Mohamed', 'New Cairo', '01065216622', 'M', 'zidan@gmail.com', '123')\n",
      "(13, 'Zidan', 'Mohamed', 'New Cairo', '01065216622', 'M', 'zidan@gmail.com', '123')\n",
      "(14, 'Zidan', 'Mohamed', 'New Cairo', '01065216622', 'M', 'zidan@gmail.com', '123')\n",
      "(15, 'John', 'Doe', 'London', '0123456789', 'M', 'john.doe@gmail.com', '456')\n",
      "(16, 'Zidan', 'Mohamed', 'New Cairo', '01065216622', 'M', 'zidan@gmail.com', '123')\n",
      "(17, 'John', 'Doe', 'London', '0123456789', 'M', 'john.doe@gmail.com', '456')\n",
      "(18, 'Zidan', 'Mohamed', 'New Cairo', '01065216622', 'M', 'zidan@gmail.com', '123')\n",
      "(19, 'John', 'Doe', 'London', '0123456789', 'M', 'john.doe@gmail.com', '456')\n"
     ]
    }
   ],
   "source": [
    "mycursor.execute(\n",
    "    \"SELECT emp_id,fname,lname,location,phone1,sex,email,pass FROM employee \"\n",
    ")\n",
    "\n",
    "myresult = mycursor.fetchall()\n",
    "\n",
    "for x in myresult:\n",
    "    print(x)"
   ]
  },
  {
   "cell_type": "code",
   "execution_count": 51,
   "metadata": {},
   "outputs": [],
   "source": [
    "class Employee:\n",
    "    def __init__(\n",
    "        self,\n",
    "        emp_id=None,\n",
    "        fname=None,\n",
    "        lname=None,\n",
    "        location=None,\n",
    "        phone1=None,\n",
    "        sex=None,\n",
    "        email=None,\n",
    "        password=None,\n",
    "    ):\n",
    "        self.emp_id = emp_id\n",
    "        self.fname = fname\n",
    "        self.lname = lname\n",
    "        self.location = location\n",
    "        self.phone1 = phone1\n",
    "        self.sex = sex\n",
    "        self.email = email\n",
    "        self.password = password\n",
    "\n",
    "    def update_emp(self, emp):\n",
    "        query = \"UPDATE employee SET fname=%s WHERE emp_id = %s\"\n",
    "        values = (emp.fname, emp.emp_id)\n",
    "\n",
    "        self.cursor.execute(query, values)\n",
    "        self.connection.commit()\n",
    "        print(emp.emp_id)\n",
    "        print(self.cursor.rowcount, \"record(s) affected\")"
   ]
  },
  {
   "cell_type": "code",
   "execution_count": 52,
   "metadata": {},
   "outputs": [
    {
     "ename": "AttributeError",
     "evalue": "'list' object has no attribute 'execute'",
     "output_type": "error",
     "traceback": [
      "\u001b[1;31m---------------------------------------------------------------------------\u001b[0m",
      "\u001b[1;31mAttributeError\u001b[0m                            Traceback (most recent call last)",
      "\u001b[1;32m~\\AppData\\Local\\Temp\\ipykernel_20360\\2632642613.py\u001b[0m in \u001b[0;36m<module>\u001b[1;34m\u001b[0m\n\u001b[0;32m      2\u001b[0m     \u001b[1;36m2\u001b[0m\u001b[1;33m,\u001b[0m \u001b[1;34m\"Zidan\"\u001b[0m\u001b[1;33m,\u001b[0m \u001b[1;34m\"Mohamed\"\u001b[0m\u001b[1;33m,\u001b[0m \u001b[1;34m\"New Cairo\"\u001b[0m\u001b[1;33m,\u001b[0m \u001b[1;34m\"01065216622\"\u001b[0m\u001b[1;33m,\u001b[0m \u001b[1;34m\"M\"\u001b[0m\u001b[1;33m,\u001b[0m \u001b[1;34m\"zidan@gmail.com\"\u001b[0m\u001b[1;33m,\u001b[0m \u001b[1;34m\"123\"\u001b[0m\u001b[1;33m\u001b[0m\u001b[1;33m\u001b[0m\u001b[0m\n\u001b[0;32m      3\u001b[0m )\n\u001b[1;32m----> 4\u001b[1;33m \u001b[0memp1\u001b[0m\u001b[1;33m.\u001b[0m\u001b[0mupdate_emp\u001b[0m\u001b[1;33m(\u001b[0m\u001b[0memp1\u001b[0m\u001b[1;33m)\u001b[0m\u001b[1;33m\u001b[0m\u001b[1;33m\u001b[0m\u001b[0m\n\u001b[0m",
      "\u001b[1;32m~\\AppData\\Local\\Temp\\ipykernel_20360\\1953688221.py\u001b[0m in \u001b[0;36mupdate_emp\u001b[1;34m(self, emp)\u001b[0m\n\u001b[0;32m     25\u001b[0m         \u001b[0mvalues\u001b[0m \u001b[1;33m=\u001b[0m \u001b[1;33m(\u001b[0m\u001b[0memp\u001b[0m\u001b[1;33m.\u001b[0m\u001b[0mfname\u001b[0m\u001b[1;33m,\u001b[0m \u001b[0memp\u001b[0m\u001b[1;33m.\u001b[0m\u001b[0memp_id\u001b[0m\u001b[1;33m)\u001b[0m\u001b[1;33m\u001b[0m\u001b[1;33m\u001b[0m\u001b[0m\n\u001b[0;32m     26\u001b[0m \u001b[1;33m\u001b[0m\u001b[0m\n\u001b[1;32m---> 27\u001b[1;33m         \u001b[0mmycursor\u001b[0m\u001b[1;33m.\u001b[0m\u001b[0mfetchall\u001b[0m\u001b[1;33m(\u001b[0m\u001b[1;33m)\u001b[0m\u001b[1;33m.\u001b[0m\u001b[0mexecute\u001b[0m\u001b[1;33m(\u001b[0m\u001b[0mquery\u001b[0m\u001b[1;33m,\u001b[0m \u001b[0mvalues\u001b[0m\u001b[1;33m)\u001b[0m\u001b[1;33m\u001b[0m\u001b[1;33m\u001b[0m\u001b[0m\n\u001b[0m\u001b[0;32m     28\u001b[0m         \u001b[0mmycursor\u001b[0m\u001b[1;33m.\u001b[0m\u001b[0mfetchall\u001b[0m\u001b[1;33m(\u001b[0m\u001b[1;33m)\u001b[0m\u001b[1;33m.\u001b[0m\u001b[0mcommit\u001b[0m\u001b[1;33m(\u001b[0m\u001b[1;33m)\u001b[0m\u001b[1;33m\u001b[0m\u001b[1;33m\u001b[0m\u001b[0m\n\u001b[0;32m     29\u001b[0m         \u001b[0mprint\u001b[0m\u001b[1;33m(\u001b[0m\u001b[0memp\u001b[0m\u001b[1;33m.\u001b[0m\u001b[0memp_id\u001b[0m\u001b[1;33m)\u001b[0m\u001b[1;33m\u001b[0m\u001b[1;33m\u001b[0m\u001b[0m\n",
      "\u001b[1;31mAttributeError\u001b[0m: 'list' object has no attribute 'execute'"
     ]
    }
   ],
   "source": [
    "emp1 = Employee(\n",
    "    2, \"Zidan\", \"Mohamed\", \"New Cairo\", \"01065216622\", \"M\", \"zidan@gmail.com\", \"123\"\n",
    ")\n",
    "emp1.update_emp(emp1)"
   ]
  },
  {
   "cell_type": "code",
   "execution_count": 24,
   "metadata": {},
   "outputs": [
    {
     "name": "stdout",
     "output_type": "stream",
     "text": [
      "['fname', 'lname', 'apple']\n",
      "(5, 7, 8)\n",
      "{'fname': 5, 'lname': 7, 'apple': 8} <class 'dict'>\n"
     ]
    }
   ],
   "source": [
    "def total_fruits(*args,**kwargs):\n",
    "    print(list(kwargs.keys()))\n",
    "    print(tuple(kwargs.values()))\n",
    "    print(kwargs, type(kwargs))\n",
    "\n",
    "\n",
    "total_fruits(fname=5, lname=7, apple=8)"
   ]
  }
 ],
 "metadata": {
  "kernelspec": {
   "display_name": "base",
   "language": "python",
   "name": "python3"
  },
  "language_info": {
   "codemirror_mode": {
    "name": "ipython",
    "version": 3
   },
   "file_extension": ".py",
   "mimetype": "text/x-python",
   "name": "python",
   "nbconvert_exporter": "python",
   "pygments_lexer": "ipython3",
   "version": "3.9.13"
  },
  "orig_nbformat": 4
 },
 "nbformat": 4,
 "nbformat_minor": 2
}
