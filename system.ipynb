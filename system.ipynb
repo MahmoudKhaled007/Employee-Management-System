{
 "cells": [
  {
   "cell_type": "code",
   "execution_count": 1,
   "metadata": {},
   "outputs": [],
   "source": [
    "import time\n",
    "import mysql.connector\n",
    "from datetime import date\n",
    "from dateutil.relativedelta import relativedelta\n",
    "from datetime import datetime, timedelta\n",
    "import numpy as np\n",
    "import pandas as pd\n",
    "\n"
   ]
  },
  {
   "cell_type": "code",
   "execution_count": 2,
   "metadata": {},
   "outputs": [],
   "source": [
    "mydb = mysql.connector.connect(\n",
    "    host=\"localhost\", user=\"root\", password=\"mahmoud2001\", database=\"employee_managment_system\"\n",
    ")\n",
    "mycursor = mydb.cursor(buffered=True)"
   ]
  },
  {
   "cell_type": "code",
   "execution_count": 3,
   "metadata": {},
   "outputs": [
    {
     "name": "stdout",
     "output_type": "stream",
     "text": [
      "(1, 'Ahmed', 'Khaled', 'Mukkattam', '01065216442', 'M', 'mahmoud@gmail.com', '1234')\n",
      "(2, 'Ahmed', 'Khaled', 'Mukkattam', '01065216442', 'M', 'mahmoud@gmail.com', '1234')\n",
      "(3, 'Mahmoud', 'Khaled', 'Mukkattam', '01065216442', 'M', 'mahmoud@gmail.com', '1234')\n",
      "(4, 'Ibrahim', 'Mohamed', 'new Cairo', '01216545645', 'M', 'ibrahim@gmail.com', '123')\n",
      "(5, 'Ibrahim', 'Mohamed', 'new Cairo', '01216545645', 'M', 'ibrahim@gmail.com', '123')\n",
      "(6, 'Menna', 'Mohamed', 'new Cairo', '01216545645', 'F', 'Menna@gmail.com', '123')\n",
      "(7, 'Ibrahim', 'Mohamed', 'new Cairo', '01216545645', 'M', 'ibrahim@gmail.com', '123')\n",
      "(8, 'Menna', 'Mohamed', 'new Cairo', '01216545645', 'F', 'Menna@gmail.com', '123')\n"
     ]
    }
   ],
   "source": [
    "mycursor.execute(\n",
    "    \"SELECT emp_id,fname,lname,location,phone1,sex,email,pass FROM employee \"\n",
    ")\n",
    "\n",
    "myresult = mycursor.fetchall()\n",
    "\n",
    "for x in myresult:\n",
    "    print(x)"
   ]
  },
  {
   "cell_type": "code",
   "execution_count": 17,
   "metadata": {},
   "outputs": [],
   "source": [
    "sql = \"INSERT INTO employee (fname,lname,location,phone1,sex,email,pass) VALUES (%s,%s,%s,%s,%s,%s,%s)\"\n",
    "\n",
    "val = [\n",
    "    (\"Ibrahim\", \"Mohamed\", \"new Cairo\", \"01216545645\", \"M\", \"ibrahim@gmail.com\", \"123\"),\n",
    "    (\"Menna\", \"Mohamed\", \"new Cairo\", \"01216545645\", \"F\", \"Menna@gmail.com\", \"123\"),\n",
    "]\n",
    "\n",
    "mycursor.executemany(sql, val)\n",
    "mydb.commit()"
   ]
  },
  {
   "cell_type": "code",
   "execution_count": 20,
   "metadata": {},
   "outputs": [
    {
     "name": "stdout",
     "output_type": "stream",
     "text": [
      "(1, 'Ahmed', 'Khaled', 'Mukkattam', '01065216442', 'M', 'mahmoud@gmail.com', '1234')\n",
      "(2, 'Ahmed', 'Khaled', 'Mukkattam', '01065216442', 'M', 'mahmoud@gmail.com', '1234')\n",
      "(3, 'Mahmoud', 'Khaled', 'Mukkattam', '01065216442', 'M', 'mahmoud@gmail.com', '1234')\n",
      "(4, 'Ibrahim', 'Mohamed', 'new Cairo', '01216545645', 'M', 'ibrahim@gmail.com', '123')\n",
      "(5, 'Ibrahim', 'Mohamed', 'new Cairo', '01216545645', 'M', 'ibrahim@gmail.com', '123')\n",
      "(6, 'Menna', 'Mohamed', 'new Cairo', '01216545645', 'F', 'Menna@gmail.com', '123')\n",
      "(7, 'Ibrahim', 'Mohamed', 'new Cairo', '01216545645', 'M', 'ibrahim@gmail.com', '123')\n",
      "(8, 'Menna', 'Mohamed', 'new Cairo', '01216545645', 'F', 'Menna@gmail.com', '123')\n"
     ]
    }
   ],
   "source": [
    "mycursor.execute(\n",
    "    \"SELECT emp_id,fname,lname,location,phone1,sex,email,pass FROM employee \"\n",
    ")\n",
    "\n",
    "myresult = mycursor.fetchall()\n",
    "\n",
    "for x in myresult:\n",
    "    print(x)"
   ]
  },
  {
   "cell_type": "code",
   "execution_count": 4,
   "metadata": {},
   "outputs": [
    {
     "ename": "ModuleNotFoundError",
     "evalue": "No module named 'Dao'",
     "output_type": "error",
     "traceback": [
      "\u001b[1;31m---------------------------------------------------------------------------\u001b[0m",
      "\u001b[1;31mModuleNotFoundError\u001b[0m                       Traceback (most recent call last)",
      "\u001b[1;32m~\\AppData\\Local\\Temp\\ipykernel_40416\\3073732150.py\u001b[0m in \u001b[0;36m<module>\u001b[1;34m\u001b[0m\n\u001b[1;32m----> 1\u001b[1;33m \u001b[1;32mimport\u001b[0m \u001b[0mDao\u001b[0m\u001b[1;33m\u001b[0m\u001b[1;33m\u001b[0m\u001b[0m\n\u001b[0m",
      "\u001b[1;31mModuleNotFoundError\u001b[0m: No module named 'Dao'"
     ]
    }
   ],
   "source": [
    "import Dao\n"
   ]
  }
 ],
 "metadata": {
  "kernelspec": {
   "display_name": "base",
   "language": "python",
   "name": "python3"
  },
  "language_info": {
   "codemirror_mode": {
    "name": "ipython",
    "version": 3
   },
   "file_extension": ".py",
   "mimetype": "text/x-python",
   "name": "python",
   "nbconvert_exporter": "python",
   "pygments_lexer": "ipython3",
   "version": "3.9.13"
  },
  "orig_nbformat": 4
 },
 "nbformat": 4,
 "nbformat_minor": 2
}
